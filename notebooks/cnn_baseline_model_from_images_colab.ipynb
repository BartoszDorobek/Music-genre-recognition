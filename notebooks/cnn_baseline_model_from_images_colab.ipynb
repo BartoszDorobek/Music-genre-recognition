{
 "cells": [
  {
   "cell_type": "markdown",
   "metadata": {
    "colab_type": "text",
    "id": "view-in-github"
   },
   "source": [
    "<a href=\"https://colab.research.google.com/github/BartoszDorobek/thesis/blob/master/notebooks/cnn_baseline_model_from_images_colab.ipynb\" target=\"_parent\"><img src=\"https://colab.research.google.com/assets/colab-badge.svg\" alt=\"Open In Colab\"/></a>"
   ]
  },
  {
   "cell_type": "code",
   "execution_count": null,
   "metadata": {
    "colab": {
     "base_uri": "https://localhost:8080/"
    },
    "id": "9yOdMNtZ0NPF",
    "outputId": "3182f657-1907-4923-d38a-7777d4d31779"
   },
   "outputs": [
    {
     "name": "stdout",
     "output_type": "stream",
     "text": [
      "Drive already mounted at /content/drive; to attempt to forcibly remount, call drive.mount(\"/content/drive\", force_remount=True).\n"
     ]
    }
   ],
   "source": [
    "from google.colab import drive\n",
    "drive.mount('/content/drive')"
   ]
  },
  {
   "cell_type": "code",
   "execution_count": null,
   "metadata": {
    "id": "8bLHr0_c0dsn"
   },
   "outputs": [],
   "source": [
    "from pathlib import Path\n",
    "\n",
    "import librosa\n",
    "import librosa.display\n",
    "import matplotlib.pyplot as plt\n",
    "import numpy as np\n",
    "import tensorflow as tf\n",
    "import pandas as pd\n",
    "\n",
    "DATA_PATH = \"drive/MyDrive/musicai/images_original\"\n",
    "\n",
    "SAMPLE_RATE = 22_050\n",
    "MAX_SIGNAL_LENGTH_TO_CROP = 660_000\n",
    "N_FFT = 2_048\n",
    "N_MELS = 128\n"
   ]
  },
  {
   "cell_type": "code",
   "execution_count": null,
   "metadata": {
    "colab": {
     "base_uri": "https://localhost:8080/"
    },
    "id": "IVXk-BVO3keG",
    "outputId": "d60687c6-cc38-4da6-bcef-88812f50a6db"
   },
   "outputs": [
    {
     "name": "stdout",
     "output_type": "stream",
     "text": [
      "Found 999 files belonging to 10 classes.\n",
      "Using 800 files for training.\n",
      "Found 999 files belonging to 10 classes.\n",
      "Using 199 files for validation.\n"
     ]
    }
   ],
   "source": [
    "from pathlib import Path\n",
    "\n",
    "from tensorflow.keras.preprocessing import image_dataset_from_directory\n",
    "\n",
    "def get_dataset(subset):\n",
    "    return image_dataset_from_directory(\n",
    "        directory=DATA_PATH,\n",
    "        labels=\"inferred\",\n",
    "        label_mode=\"categorical\",\n",
    "        color_mode=\"rgb\",\n",
    "        batch_size=32,\n",
    "        image_size=(288, 432),\n",
    "        shuffle=True,\n",
    "        seed=7,\n",
    "        validation_split=0.2,\n",
    "        subset=subset,\n",
    "    )\n",
    "\n",
    "train_ds = get_dataset(subset=\"training\")\n",
    "val_ds = get_dataset(subset=\"validation\")\n"
   ]
  },
  {
   "cell_type": "code",
   "execution_count": null,
   "metadata": {
    "colab": {
     "base_uri": "https://localhost:8080/"
    },
    "id": "vRT6i6vB1JEE",
    "outputId": "80a98696-8126-4ff7-a80e-b318043b841d"
   },
   "outputs": [
    {
     "data": {
      "text/plain": [
       "[TensorShape([None, 288, 432, 3]), TensorShape([None, 10])]"
      ]
     },
     "execution_count": 7,
     "metadata": {},
     "output_type": "execute_result"
    }
   ],
   "source": [
    "train_ds._flat_shapes"
   ]
  },
  {
   "cell_type": "code",
   "execution_count": null,
   "metadata": {
    "id": "9-yX1mgB1LZA"
   },
   "outputs": [],
   "source": [
    "from tensorflow.keras.layers import MaxPooling2D, Dropout, Conv2D, Flatten, AveragePooling2D, BatchNormalization, Dense\n",
    "from tensorflow.keras import Sequential\n",
    "from tensorflow.keras.optimizers import Adam\n",
    "\n",
    "\n",
    "# model = Sequential(\n",
    "#     [\n",
    "#         Conv2D(32, (3, 3), padding=\"same\", activation=\"relu\", input_shape=(288, 432, 3)),\n",
    "#         Conv2D(32, (3, 3), activation=\"relu\"),\n",
    "#         MaxPooling2D(pool_size=(2, 2)),\n",
    "#         Dropout(0.25),\n",
    "#         Conv2D(64, (3, 3), padding=\"same\", activation=\"relu\"),\n",
    "#         Conv2D(64, (3, 3), activation=\"relu\"),\n",
    "#         MaxPooling2D(pool_size=(2, 2)),\n",
    "#         Dropout(0.25),\n",
    "#         Conv2D(64, (3, 3), padding=\"same\", activation=\"relu\"),\n",
    "#         Conv2D(64, (3, 3), activation=\"relu\"),\n",
    "#         MaxPooling2D(pool_size=(2, 2)),\n",
    "#         Dropout(0.25),\n",
    "#         Flatten(),\n",
    "#         Dense(512, activation=\"relu\"),\n",
    "#         Dropout(0.5),\n",
    "#         Dense(10, activation=\"softmax\"),\n",
    "#     ]\n",
    "# )\n",
    "\n",
    "# model = Sequential([\n",
    "#     # Input shape is the size of the image 288x432 with 3 bytes color\n",
    "    \n",
    "#     Conv2D(16, (3,3), activation='relu', input_shape=(288, 432, 3)),\n",
    "#     MaxPooling2D(2,2),\n",
    "#     Dropout(0.2), \n",
    "\n",
    "#     Conv2D(32, (3,3), activation='relu'),\n",
    "#     MaxPooling2D(2,2),\n",
    "#     Dropout(0.2), \n",
    "\n",
    "#     Conv2D(64, (3,3), activation='relu'),\n",
    "#     MaxPooling2D(2,2),\n",
    "#     Dropout(0.3), \n",
    "\n",
    "#     Conv2D(64, (3,3), activation='relu'),\n",
    "#     MaxPooling2D(2,2),\n",
    "#     Dropout(0.3), \n",
    "#     # Flatten the results to feed into a DNN\n",
    "#     Flatten(),\n",
    "    \n",
    "#     # Dense\n",
    "#     Dense(128, activation=\"relu\"),\n",
    "#     #BatchNormalization(),\n",
    "#     Dropout(0.5),\n",
    "#     Dense(10, activation=\"softmax\"),\n",
    "# ])\n",
    "\n",
    "model = Sequential([\n",
    "    # Input shape is the size of the image 288x432 with 3 bytes color\n",
    "    \n",
    "    Conv2D(8, (7,7), activation='relu', input_shape=(288, 432, 3)),\n",
    "    BatchNormalization(axis=3),\n",
    "    MaxPooling2D(2,2),\n",
    "\n",
    "    Conv2D(16, (5,5), activation='relu'),\n",
    "    BatchNormalization(axis=3),\n",
    "    MaxPooling2D(2,2),\n",
    "\n",
    "    Conv2D(32, (3,3), activation='relu'),\n",
    "    BatchNormalization(axis=3),\n",
    "    MaxPooling2D(2,2),\n",
    "\n",
    "    Conv2D(64, (3,3), activation='relu'),\n",
    "    BatchNormalization(axis=3),\n",
    "    MaxPooling2D(2,2),\n",
    "\n",
    "    Conv2D(128, (3,3), activation='relu'),\n",
    "    BatchNormalization(axis=3),\n",
    "    MaxPooling2D(2,2),\n",
    "\n",
    "    # Flatten the results to feed into a DNN\n",
    "    Flatten(),\n",
    "    \n",
    "    # Dense\n",
    "    Dense(128, activation=\"relu\"),\n",
    "    #BatchNormalization(),\n",
    "    Dropout(0.5),\n",
    "    Dense(10, activation=\"softmax\"),\n",
    "])"
   ]
  },
  {
   "cell_type": "code",
   "execution_count": null,
   "metadata": {
    "colab": {
     "base_uri": "https://localhost:8080/"
    },
    "id": "9G122TW91NJF",
    "outputId": "a4cb09e7-ace1-4049-cfe7-ba37180ed2fa"
   },
   "outputs": [
    {
     "name": "stdout",
     "output_type": "stream",
     "text": [
      "Model: \"sequential_14\"\n",
      "_________________________________________________________________\n",
      " Layer (type)                Output Shape              Param #   \n",
      "=================================================================\n",
      " conv2d_70 (Conv2D)          (None, 282, 426, 8)       1184      \n",
      "                                                                 \n",
      " batch_normalization_70 (Bat  (None, 282, 426, 8)      32        \n",
      " chNormalization)                                                \n",
      "                                                                 \n",
      " max_pooling2d_70 (MaxPoolin  (None, 141, 213, 8)      0         \n",
      " g2D)                                                            \n",
      "                                                                 \n",
      " conv2d_71 (Conv2D)          (None, 137, 209, 16)      3216      \n",
      "                                                                 \n",
      " batch_normalization_71 (Bat  (None, 137, 209, 16)     64        \n",
      " chNormalization)                                                \n",
      "                                                                 \n",
      " max_pooling2d_71 (MaxPoolin  (None, 68, 104, 16)      0         \n",
      " g2D)                                                            \n",
      "                                                                 \n",
      " conv2d_72 (Conv2D)          (None, 66, 102, 32)       4640      \n",
      "                                                                 \n",
      " batch_normalization_72 (Bat  (None, 66, 102, 32)      128       \n",
      " chNormalization)                                                \n",
      "                                                                 \n",
      " max_pooling2d_72 (MaxPoolin  (None, 33, 51, 32)       0         \n",
      " g2D)                                                            \n",
      "                                                                 \n",
      " conv2d_73 (Conv2D)          (None, 31, 49, 64)        18496     \n",
      "                                                                 \n",
      " batch_normalization_73 (Bat  (None, 31, 49, 64)       256       \n",
      " chNormalization)                                                \n",
      "                                                                 \n",
      " max_pooling2d_73 (MaxPoolin  (None, 15, 24, 64)       0         \n",
      " g2D)                                                            \n",
      "                                                                 \n",
      " conv2d_74 (Conv2D)          (None, 13, 22, 128)       73856     \n",
      "                                                                 \n",
      " batch_normalization_74 (Bat  (None, 13, 22, 128)      512       \n",
      " chNormalization)                                                \n",
      "                                                                 \n",
      " max_pooling2d_74 (MaxPoolin  (None, 6, 11, 128)       0         \n",
      " g2D)                                                            \n",
      "                                                                 \n",
      " flatten_14 (Flatten)        (None, 8448)              0         \n",
      "                                                                 \n",
      " dense_30 (Dense)            (None, 128)               1081472   \n",
      "                                                                 \n",
      " dropout_25 (Dropout)        (None, 128)               0         \n",
      "                                                                 \n",
      " dense_31 (Dense)            (None, 10)                1290      \n",
      "                                                                 \n",
      "=================================================================\n",
      "Total params: 1,185,146\n",
      "Trainable params: 1,184,650\n",
      "Non-trainable params: 496\n",
      "_________________________________________________________________\n"
     ]
    }
   ],
   "source": [
    "epochs = 60 #100\n",
    "opt = Adam(learning_rate=0.001)\n",
    "model.compile(optimizer=opt, loss='categorical_crossentropy', metrics=['accuracy'])\n",
    "model.summary()"
   ]
  },
  {
   "cell_type": "code",
   "execution_count": null,
   "metadata": {
    "colab": {
     "base_uri": "https://localhost:8080/"
    },
    "id": "Hd1uV2ip1Oy5",
    "outputId": "62c1d3df-79ed-4e42-e39c-891279a6c072"
   },
   "outputs": [
    {
     "name": "stdout",
     "output_type": "stream",
     "text": [
      "Epoch 1/60\n",
      "25/25 - 7s - loss: 3.5598 - accuracy: 0.1825 - val_loss: 3.4586 - val_accuracy: 0.0905 - 7s/epoch - 270ms/step\n",
      "Epoch 2/60\n",
      "25/25 - 6s - loss: 2.1600 - accuracy: 0.2338 - val_loss: 2.4450 - val_accuracy: 0.1156 - 6s/epoch - 221ms/step\n",
      "Epoch 3/60\n",
      "25/25 - 5s - loss: 2.1512 - accuracy: 0.1750 - val_loss: 2.2341 - val_accuracy: 0.2010 - 5s/epoch - 216ms/step\n",
      "Epoch 4/60\n",
      "25/25 - 5s - loss: 2.0663 - accuracy: 0.2125 - val_loss: 2.2069 - val_accuracy: 0.1960 - 5s/epoch - 219ms/step\n",
      "Epoch 5/60\n",
      "25/25 - 5s - loss: 1.9694 - accuracy: 0.2525 - val_loss: 1.9052 - val_accuracy: 0.3568 - 5s/epoch - 218ms/step\n",
      "Epoch 6/60\n",
      "25/25 - 5s - loss: 1.9701 - accuracy: 0.2713 - val_loss: 1.9221 - val_accuracy: 0.3467 - 5s/epoch - 219ms/step\n",
      "Epoch 7/60\n",
      "25/25 - 5s - loss: 1.8631 - accuracy: 0.3150 - val_loss: 1.9826 - val_accuracy: 0.3920 - 5s/epoch - 215ms/step\n",
      "Epoch 8/60\n",
      "25/25 - 5s - loss: 1.8323 - accuracy: 0.3350 - val_loss: 1.7912 - val_accuracy: 0.3819 - 5s/epoch - 218ms/step\n",
      "Epoch 9/60\n",
      "25/25 - 5s - loss: 1.8100 - accuracy: 0.3525 - val_loss: 1.9923 - val_accuracy: 0.3869 - 5s/epoch - 218ms/step\n",
      "Epoch 10/60\n",
      "25/25 - 5s - loss: 1.7234 - accuracy: 0.3638 - val_loss: 1.8104 - val_accuracy: 0.4523 - 5s/epoch - 219ms/step\n",
      "Epoch 11/60\n",
      "25/25 - 5s - loss: 1.6729 - accuracy: 0.3812 - val_loss: 1.7269 - val_accuracy: 0.4271 - 5s/epoch - 215ms/step\n",
      "Epoch 12/60\n",
      "25/25 - 5s - loss: 1.6197 - accuracy: 0.4087 - val_loss: 1.7944 - val_accuracy: 0.4171 - 5s/epoch - 219ms/step\n",
      "Epoch 13/60\n",
      "25/25 - 5s - loss: 1.5483 - accuracy: 0.4500 - val_loss: 1.9551 - val_accuracy: 0.4271 - 5s/epoch - 219ms/step\n",
      "Epoch 14/60\n",
      "25/25 - 5s - loss: 1.4601 - accuracy: 0.4462 - val_loss: 1.8619 - val_accuracy: 0.4271 - 5s/epoch - 218ms/step\n",
      "Epoch 15/60\n",
      "25/25 - 5s - loss: 1.4335 - accuracy: 0.4625 - val_loss: 1.9150 - val_accuracy: 0.4221 - 5s/epoch - 217ms/step\n",
      "Epoch 16/60\n",
      "25/25 - 5s - loss: 1.3261 - accuracy: 0.5000 - val_loss: 1.5482 - val_accuracy: 0.5025 - 5s/epoch - 217ms/step\n",
      "Epoch 17/60\n",
      "25/25 - 6s - loss: 1.4329 - accuracy: 0.4625 - val_loss: 2.6076 - val_accuracy: 0.2060 - 6s/epoch - 238ms/step\n",
      "Epoch 18/60\n",
      "25/25 - 6s - loss: 1.3949 - accuracy: 0.4650 - val_loss: 2.5860 - val_accuracy: 0.3065 - 6s/epoch - 236ms/step\n",
      "Epoch 19/60\n",
      "25/25 - 5s - loss: 1.2852 - accuracy: 0.5050 - val_loss: 1.8017 - val_accuracy: 0.5176 - 5s/epoch - 219ms/step\n",
      "Epoch 20/60\n",
      "25/25 - 5s - loss: 1.2390 - accuracy: 0.5312 - val_loss: 1.7781 - val_accuracy: 0.4322 - 5s/epoch - 216ms/step\n",
      "Epoch 21/60\n",
      "25/25 - 5s - loss: 1.2246 - accuracy: 0.5300 - val_loss: 2.4807 - val_accuracy: 0.4171 - 5s/epoch - 218ms/step\n",
      "Epoch 22/60\n",
      "25/25 - 5s - loss: 1.2476 - accuracy: 0.5350 - val_loss: 1.8617 - val_accuracy: 0.3467 - 5s/epoch - 217ms/step\n",
      "Epoch 23/60\n",
      "25/25 - 5s - loss: 1.2312 - accuracy: 0.5125 - val_loss: 2.0588 - val_accuracy: 0.3518 - 5s/epoch - 216ms/step\n",
      "Epoch 24/60\n",
      "25/25 - 5s - loss: 1.1951 - accuracy: 0.5238 - val_loss: 1.7622 - val_accuracy: 0.4271 - 5s/epoch - 216ms/step\n",
      "Epoch 25/60\n",
      "25/25 - 6s - loss: 1.1377 - accuracy: 0.5437 - val_loss: 1.7970 - val_accuracy: 0.4573 - 6s/epoch - 222ms/step\n",
      "Epoch 26/60\n",
      "25/25 - 5s - loss: 1.0827 - accuracy: 0.5863 - val_loss: 1.7868 - val_accuracy: 0.5176 - 5s/epoch - 219ms/step\n",
      "Epoch 27/60\n",
      "25/25 - 5s - loss: 1.0241 - accuracy: 0.6125 - val_loss: 1.5662 - val_accuracy: 0.4975 - 5s/epoch - 218ms/step\n",
      "Epoch 28/60\n",
      "25/25 - 6s - loss: 1.0204 - accuracy: 0.5825 - val_loss: 2.2639 - val_accuracy: 0.4724 - 6s/epoch - 220ms/step\n",
      "Epoch 29/60\n",
      "25/25 - 6s - loss: 0.9481 - accuracy: 0.5987 - val_loss: 2.1998 - val_accuracy: 0.3920 - 6s/epoch - 223ms/step\n",
      "Epoch 30/60\n",
      "25/25 - 6s - loss: 0.8934 - accuracy: 0.6612 - val_loss: 1.8341 - val_accuracy: 0.5327 - 6s/epoch - 220ms/step\n",
      "Epoch 31/60\n",
      "25/25 - 5s - loss: 0.8876 - accuracy: 0.6400 - val_loss: 2.1743 - val_accuracy: 0.4322 - 5s/epoch - 217ms/step\n",
      "Epoch 32/60\n",
      "25/25 - 5s - loss: 0.9255 - accuracy: 0.6413 - val_loss: 1.6541 - val_accuracy: 0.5226 - 5s/epoch - 217ms/step\n",
      "Epoch 33/60\n",
      "25/25 - 5s - loss: 0.8459 - accuracy: 0.6675 - val_loss: 1.8855 - val_accuracy: 0.5176 - 5s/epoch - 220ms/step\n",
      "Epoch 34/60\n",
      "25/25 - 6s - loss: 0.7895 - accuracy: 0.6762 - val_loss: 1.8042 - val_accuracy: 0.5276 - 6s/epoch - 259ms/step\n",
      "Epoch 35/60\n",
      "25/25 - 5s - loss: 0.8623 - accuracy: 0.6513 - val_loss: 1.9188 - val_accuracy: 0.4472 - 5s/epoch - 220ms/step\n",
      "Epoch 36/60\n",
      "25/25 - 5s - loss: 0.8715 - accuracy: 0.6450 - val_loss: 1.8030 - val_accuracy: 0.4975 - 5s/epoch - 217ms/step\n",
      "Epoch 37/60\n",
      "25/25 - 5s - loss: 0.8238 - accuracy: 0.6800 - val_loss: 1.7662 - val_accuracy: 0.4774 - 5s/epoch - 215ms/step\n",
      "Epoch 38/60\n",
      "25/25 - 5s - loss: 0.8091 - accuracy: 0.6950 - val_loss: 1.5917 - val_accuracy: 0.5075 - 5s/epoch - 217ms/step\n",
      "Epoch 39/60\n",
      "25/25 - 5s - loss: 0.7460 - accuracy: 0.7050 - val_loss: 1.9173 - val_accuracy: 0.5126 - 5s/epoch - 216ms/step\n",
      "Epoch 40/60\n",
      "25/25 - 5s - loss: 0.7486 - accuracy: 0.7175 - val_loss: 1.9560 - val_accuracy: 0.5377 - 5s/epoch - 216ms/step\n",
      "Epoch 41/60\n",
      "25/25 - 5s - loss: 0.7059 - accuracy: 0.7350 - val_loss: 1.9859 - val_accuracy: 0.5829 - 5s/epoch - 217ms/step\n",
      "Epoch 42/60\n",
      "25/25 - 5s - loss: 0.7620 - accuracy: 0.7075 - val_loss: 2.0177 - val_accuracy: 0.4975 - 5s/epoch - 216ms/step\n",
      "Epoch 43/60\n",
      "25/25 - 5s - loss: 0.6613 - accuracy: 0.7350 - val_loss: 1.7171 - val_accuracy: 0.5678 - 5s/epoch - 215ms/step\n",
      "Epoch 44/60\n",
      "25/25 - 5s - loss: 0.6308 - accuracy: 0.7550 - val_loss: 2.0641 - val_accuracy: 0.5025 - 5s/epoch - 217ms/step\n",
      "Epoch 45/60\n",
      "25/25 - 5s - loss: 0.6336 - accuracy: 0.7487 - val_loss: 1.8886 - val_accuracy: 0.5276 - 5s/epoch - 215ms/step\n",
      "Epoch 46/60\n",
      "25/25 - 5s - loss: 0.6393 - accuracy: 0.7362 - val_loss: 1.8057 - val_accuracy: 0.5176 - 5s/epoch - 217ms/step\n",
      "Epoch 47/60\n",
      "25/25 - 6s - loss: 0.5782 - accuracy: 0.7688 - val_loss: 1.8673 - val_accuracy: 0.5879 - 6s/epoch - 223ms/step\n",
      "Epoch 48/60\n",
      "25/25 - 6s - loss: 0.5725 - accuracy: 0.7725 - val_loss: 1.7004 - val_accuracy: 0.5729 - 6s/epoch - 221ms/step\n",
      "Epoch 49/60\n",
      "25/25 - 5s - loss: 0.5582 - accuracy: 0.7763 - val_loss: 1.6299 - val_accuracy: 0.5226 - 5s/epoch - 220ms/step\n",
      "Epoch 50/60\n",
      "25/25 - 6s - loss: 0.4927 - accuracy: 0.7962 - val_loss: 1.7425 - val_accuracy: 0.5980 - 6s/epoch - 220ms/step\n",
      "Epoch 51/60\n",
      "25/25 - 6s - loss: 0.5447 - accuracy: 0.7862 - val_loss: 1.8933 - val_accuracy: 0.5075 - 6s/epoch - 235ms/step\n",
      "Epoch 52/60\n",
      "25/25 - 5s - loss: 0.5579 - accuracy: 0.7688 - val_loss: 1.6760 - val_accuracy: 0.5628 - 5s/epoch - 219ms/step\n",
      "Epoch 53/60\n",
      "25/25 - 5s - loss: 0.5110 - accuracy: 0.7812 - val_loss: 1.7786 - val_accuracy: 0.6080 - 5s/epoch - 218ms/step\n",
      "Epoch 54/60\n",
      "25/25 - 6s - loss: 0.5156 - accuracy: 0.8025 - val_loss: 1.7157 - val_accuracy: 0.5176 - 6s/epoch - 220ms/step\n",
      "Epoch 55/60\n",
      "25/25 - 5s - loss: 0.4802 - accuracy: 0.8000 - val_loss: 2.1000 - val_accuracy: 0.5829 - 5s/epoch - 219ms/step\n",
      "Epoch 56/60\n",
      "25/25 - 5s - loss: 0.5049 - accuracy: 0.8025 - val_loss: 3.4798 - val_accuracy: 0.3467 - 5s/epoch - 219ms/step\n",
      "Epoch 57/60\n",
      "25/25 - 5s - loss: 0.5585 - accuracy: 0.7750 - val_loss: 1.7345 - val_accuracy: 0.5829 - 5s/epoch - 219ms/step\n",
      "Epoch 58/60\n",
      "25/25 - 5s - loss: 0.4434 - accuracy: 0.8275 - val_loss: 2.6578 - val_accuracy: 0.5578 - 5s/epoch - 216ms/step\n",
      "Epoch 59/60\n",
      "25/25 - 5s - loss: 0.4622 - accuracy: 0.8125 - val_loss: 1.6602 - val_accuracy: 0.6281 - 5s/epoch - 216ms/step\n",
      "Epoch 60/60\n",
      "25/25 - 5s - loss: 0.5045 - accuracy: 0.8087 - val_loss: 1.7940 - val_accuracy: 0.6332 - 5s/epoch - 216ms/step\n"
     ]
    }
   ],
   "source": [
    "from tqdm import tqdm\n",
    "callback = tf.keras.callbacks.EarlyStopping(monitor='loss', patience=5)\n",
    "\n",
    "history =  model.fit(\n",
    "    x=train_ds,\n",
    "    validation_data=val_ds,\n",
    "    epochs=epochs, \n",
    "    verbose=2,\n",
    "    callbacks=[callback]\n",
    ")"
   ]
  },
  {
   "cell_type": "code",
   "execution_count": null,
   "metadata": {
    "colab": {
     "base_uri": "https://localhost:8080/",
     "height": 265
    },
    "id": "flKKl8cZ1Rwv",
    "outputId": "c9a9a31c-79be-475d-a012-a3fdc8112da3"
   },
   "outputs": [
    {
     "data": {
      "image/png": "[encoded data removed]",
      "text/plain": [
       "<Figure size 432x288 with 1 Axes>"
      ]
     },
     "metadata": {
      "needs_background": "light"
     },
     "output_type": "display_data"
    }
   ],
   "source": [
    "results_cnn = pd.DataFrame(history.history).iloc[1:, :]\n",
    "results_cnn.loss.plot(label='loss')\n",
    "results_cnn.val_loss.plot(label='val_loss')\n",
    "plt.legend()\n",
    "plt.show()"
   ]
  },
  {
   "cell_type": "code",
   "execution_count": null,
   "metadata": {
    "colab": {
     "base_uri": "https://localhost:8080/",
     "height": 265
    },
    "id": "OoG6phou1TTR",
    "outputId": "9fad7a61-2af4-4ee6-efaa-3b00c8382b98"
   },
   "outputs": [
    {
     "data": {
      "image/png": "[encoded data removed]",
      "text/plain": [
       "<Figure size 432x288 with 1 Axes>"
      ]
     },
     "metadata": {
      "needs_background": "light"
     },
     "output_type": "display_data"
    }
   ],
   "source": [
    "results_cnn.accuracy.plot(label='accuracy')\n",
    "results_cnn.val_accuracy.plot(label='val_accuracy')\n",
    "plt.legend()\n",
    "plt.show()"
   ]
  },
  {
   "cell_type": "code",
   "execution_count": null,
   "metadata": {
    "id": "kucQEjOA50SN"
   },
   "outputs": [],
   "source": []
  }
 ],
 "metadata": {
  "accelerator": "GPU",
  "colab": {
   "authorship_tag": "ABX9TyPETVRlq/7ezW2AyBz7cMzp",
   "include_colab_link": true,
   "provenance": []
  },
  "gpuClass": "standard",
  "kernelspec": {
   "display_name": "Python 3 (ipykernel)",
   "language": "python",
   "name": "python3"
  },
  "language_info": {
   "codemirror_mode": {
    "name": "ipython",
    "version": 3
   },
   "file_extension": ".py",
   "mimetype": "text/x-python",
   "name": "python",
   "nbconvert_exporter": "python",
   "pygments_lexer": "ipython3",
   "version": "3.7.12"
  }
 },
 "nbformat": 4,
 "nbformat_minor": 4
}
